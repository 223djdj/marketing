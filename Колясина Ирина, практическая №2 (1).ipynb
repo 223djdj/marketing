{
 "cells": [
  {
   "cell_type": "markdown",
   "id": "8fa65bd6",
   "metadata": {},
   "source": [
    "**Практическая работа №2**"
   ]
  },
  {
   "cell_type": "markdown",
   "id": "43aa5004",
   "metadata": {},
   "source": [
    "Сегодня банкам приходится использовать различные рекламные инструменты для продажи своих услуг (e-mail маркетинг, телефония, digital маркетинг и др.).\n",
    "\n",
    "Пожалуй, сложно представить банк, который бы не звонил своим клиентам с предложением очередной услуги. Да, это можно назвать не самым лучшим методом (многих людей это раздражает), однако такая реклама все еще остается эффективной. \n",
    "\n",
    "Данный датасет содержит информацию о клиентах португальского банка. А также телефонных маркетинговых кампаниях. Основная услуга, которая предлагается клиентам - это срочный банковский депозит. На основе данных можно будет выдвинуть несколько гипотез и лучше познакомиться с клиентами. \n",
    "\n",
    "Мне интересно проанализировать этот датасет, потому что я сама работаю в отделе маркетинга и продаж. А моя ВКР связана с изучением поведения покупателей и тем, какие факторы влияют на их лояльность и конечное решение о покупке или не покупке. "
   ]
  },
  {
   "cell_type": "markdown",
   "id": "17f4ad87",
   "metadata": {},
   "source": [
    "**Датасет содержит в себе следующие данные:**\n",
    "\n",
    "**A) Данные о клиентах:**\n",
    "\n",
    "1 - age (numeric) - возраст клиента       \n",
    "2 - job : type of job (categorical: \"admin.\",\"unknown\",\"unemployed\",\"management\",\"housemaid\",\"entrepre eur\",\"student\", \"blue-collar\",\"self-\\ employed\",\"retired\",\"technician\",\"services\") - сфера работы (сфера, в которой клиент работает)     \n",
    "3 - marital : marital status (categorical: \"married\",\"divorced\",\"single\" - социальный статус  \n",
    "4 - education (categorical: \"unknown\",\"secondary\",\"primary\",\"tertiary\") - образование  \n",
    "5 - default: has credit in default? (binary: \"yes\",\"no\") - дефолт (когда клиент не может выплатить кредит)  \n",
    "6 - balance: average yearly balance, in euros (numeric) - баланс   \n",
    "7 - housing: has housing loan? (binary: \"yes\",\"no\") - налиие ипотеки   \n",
    "8 - loan: has personal loan? (binary: \"yes\",\"no\") - наличие кредита\n",
    "\n",
    "**В) Данные о последней телефонной рекламной кампании:**\n",
    "\n",
    "9 - contact: contact communication type (categorical: \"unknown\",\"telephone\",\"cellular\") - тип связи  \n",
    "10 - day: last contact day of the month (numeric) - день (Последний день, когда был контакт)  \n",
    "11 - month: last contact month of year (categorical: \"jan\", \"feb\", \"mar\", …, \"nov\", \"dec\") - месяц  \n",
    "12 - duration: last contact duration, in seconds (numeric) - продолжительность разговра \n",
    "\n",
    "**С) Дополнительные данные:**\n",
    "\n",
    "13 - campaign: number of contacts performed during this campaign and for this client (numeric, includes last contact) - количество контактов в течение этой кампании    \n",
    "14 - pdays: number of days that passed by after the client was last\n",
    "contacted from a previous campaign (numeric, -1 means client was\n",
    "not previously contacted) - дни от последнего контакта    \n",
    "15 - previous: number of contacts performed before this campaign\n",
    "and for this client (numeric) - количество контактов  ранее (до кампании)   \n",
    "16 - poutcome: outcome of the previous marketing campaign\n",
    "(categorical: \"unknown\",\"other\",\"failure\",\"success\") - результат\n",
    "прошлой кампании \n",
    "\n",
    "**D) Желаемая цель:**    \n",
    "17 - y - has the client subscribed a term deposit? (binary: \"yes\",\"no\") - подписка "
   ]
  },
  {
   "cell_type": "code",
   "execution_count": 1,
   "id": "cb73b8eb",
   "metadata": {},
   "outputs": [
    {
     "data": {
      "text/html": [
       "<div>\n",
       "<style scoped>\n",
       "    .dataframe tbody tr th:only-of-type {\n",
       "        vertical-align: middle;\n",
       "    }\n",
       "\n",
       "    .dataframe tbody tr th {\n",
       "        vertical-align: top;\n",
       "    }\n",
       "\n",
       "    .dataframe thead th {\n",
       "        text-align: right;\n",
       "    }\n",
       "</style>\n",
       "<table border=\"1\" class=\"dataframe\">\n",
       "  <thead>\n",
       "    <tr style=\"text-align: right;\">\n",
       "      <th></th>\n",
       "      <th>age</th>\n",
       "      <th>job</th>\n",
       "      <th>marital</th>\n",
       "      <th>education</th>\n",
       "      <th>default</th>\n",
       "      <th>balance</th>\n",
       "      <th>housing</th>\n",
       "      <th>loan</th>\n",
       "      <th>contact</th>\n",
       "      <th>day</th>\n",
       "      <th>month</th>\n",
       "      <th>duration</th>\n",
       "      <th>campaign</th>\n",
       "      <th>pdays</th>\n",
       "      <th>previous</th>\n",
       "      <th>poutcome</th>\n",
       "      <th>y</th>\n",
       "    </tr>\n",
       "  </thead>\n",
       "  <tbody>\n",
       "    <tr>\n",
       "      <th>0</th>\n",
       "      <td>58</td>\n",
       "      <td>management</td>\n",
       "      <td>married</td>\n",
       "      <td>tertiary</td>\n",
       "      <td>no</td>\n",
       "      <td>2143</td>\n",
       "      <td>yes</td>\n",
       "      <td>no</td>\n",
       "      <td>unknown</td>\n",
       "      <td>5</td>\n",
       "      <td>may</td>\n",
       "      <td>261</td>\n",
       "      <td>1</td>\n",
       "      <td>-1</td>\n",
       "      <td>0</td>\n",
       "      <td>unknown</td>\n",
       "      <td>no</td>\n",
       "    </tr>\n",
       "    <tr>\n",
       "      <th>1</th>\n",
       "      <td>44</td>\n",
       "      <td>technician</td>\n",
       "      <td>single</td>\n",
       "      <td>secondary</td>\n",
       "      <td>no</td>\n",
       "      <td>29</td>\n",
       "      <td>yes</td>\n",
       "      <td>no</td>\n",
       "      <td>unknown</td>\n",
       "      <td>5</td>\n",
       "      <td>may</td>\n",
       "      <td>151</td>\n",
       "      <td>1</td>\n",
       "      <td>-1</td>\n",
       "      <td>0</td>\n",
       "      <td>unknown</td>\n",
       "      <td>no</td>\n",
       "    </tr>\n",
       "    <tr>\n",
       "      <th>2</th>\n",
       "      <td>33</td>\n",
       "      <td>entrepreneur</td>\n",
       "      <td>married</td>\n",
       "      <td>secondary</td>\n",
       "      <td>no</td>\n",
       "      <td>2</td>\n",
       "      <td>yes</td>\n",
       "      <td>yes</td>\n",
       "      <td>unknown</td>\n",
       "      <td>5</td>\n",
       "      <td>may</td>\n",
       "      <td>76</td>\n",
       "      <td>1</td>\n",
       "      <td>-1</td>\n",
       "      <td>0</td>\n",
       "      <td>unknown</td>\n",
       "      <td>no</td>\n",
       "    </tr>\n",
       "    <tr>\n",
       "      <th>3</th>\n",
       "      <td>47</td>\n",
       "      <td>blue-collar</td>\n",
       "      <td>married</td>\n",
       "      <td>unknown</td>\n",
       "      <td>no</td>\n",
       "      <td>1506</td>\n",
       "      <td>yes</td>\n",
       "      <td>no</td>\n",
       "      <td>unknown</td>\n",
       "      <td>5</td>\n",
       "      <td>may</td>\n",
       "      <td>92</td>\n",
       "      <td>1</td>\n",
       "      <td>-1</td>\n",
       "      <td>0</td>\n",
       "      <td>unknown</td>\n",
       "      <td>no</td>\n",
       "    </tr>\n",
       "    <tr>\n",
       "      <th>4</th>\n",
       "      <td>33</td>\n",
       "      <td>unknown</td>\n",
       "      <td>single</td>\n",
       "      <td>unknown</td>\n",
       "      <td>no</td>\n",
       "      <td>1</td>\n",
       "      <td>no</td>\n",
       "      <td>no</td>\n",
       "      <td>unknown</td>\n",
       "      <td>5</td>\n",
       "      <td>may</td>\n",
       "      <td>198</td>\n",
       "      <td>1</td>\n",
       "      <td>-1</td>\n",
       "      <td>0</td>\n",
       "      <td>unknown</td>\n",
       "      <td>no</td>\n",
       "    </tr>\n",
       "  </tbody>\n",
       "</table>\n",
       "</div>"
      ],
      "text/plain": [
       "   age           job  marital  education default  balance housing loan  \\\n",
       "0   58    management  married   tertiary      no     2143     yes   no   \n",
       "1   44    technician   single  secondary      no       29     yes   no   \n",
       "2   33  entrepreneur  married  secondary      no        2     yes  yes   \n",
       "3   47   blue-collar  married    unknown      no     1506     yes   no   \n",
       "4   33       unknown   single    unknown      no        1      no   no   \n",
       "\n",
       "   contact  day month  duration  campaign  pdays  previous poutcome   y  \n",
       "0  unknown    5   may       261         1     -1         0  unknown  no  \n",
       "1  unknown    5   may       151         1     -1         0  unknown  no  \n",
       "2  unknown    5   may        76         1     -1         0  unknown  no  \n",
       "3  unknown    5   may        92         1     -1         0  unknown  no  \n",
       "4  unknown    5   may       198         1     -1         0  unknown  no  "
      ]
     },
     "execution_count": 1,
     "metadata": {},
     "output_type": "execute_result"
    }
   ],
   "source": [
    "import pandas as pd\n",
    "import numpy as np\n",
    "import matplotlib.pyplot as plt\n",
    "import seaborn as sns\n",
    "bank_m = pd.read_csv(\"train.csv\", delimiter=';')\n",
    "bank_m.head()"
   ]
  },
  {
   "cell_type": "code",
   "execution_count": 2,
   "id": "926bed02",
   "metadata": {},
   "outputs": [
    {
     "name": "stdout",
     "output_type": "stream",
     "text": [
      "<class 'pandas.core.frame.DataFrame'>\n",
      "RangeIndex: 45211 entries, 0 to 45210\n",
      "Data columns (total 17 columns):\n",
      " #   Column     Non-Null Count  Dtype \n",
      "---  ------     --------------  ----- \n",
      " 0   age        45211 non-null  int64 \n",
      " 1   job        45211 non-null  object\n",
      " 2   marital    45211 non-null  object\n",
      " 3   education  45211 non-null  object\n",
      " 4   default    45211 non-null  object\n",
      " 5   balance    45211 non-null  int64 \n",
      " 6   housing    45211 non-null  object\n",
      " 7   loan       45211 non-null  object\n",
      " 8   contact    45211 non-null  object\n",
      " 9   day        45211 non-null  int64 \n",
      " 10  month      45211 non-null  object\n",
      " 11  duration   45211 non-null  int64 \n",
      " 12  campaign   45211 non-null  int64 \n",
      " 13  pdays      45211 non-null  int64 \n",
      " 14  previous   45211 non-null  int64 \n",
      " 15  poutcome   45211 non-null  object\n",
      " 16  y          45211 non-null  object\n",
      "dtypes: int64(7), object(10)\n",
      "memory usage: 5.9+ MB\n"
     ]
    }
   ],
   "source": [
    "bank_m.info() #начнем с анализа данных"
   ]
  },
  {
   "cell_type": "markdown",
   "id": "8c9e4554",
   "metadata": {},
   "source": [
    "Датасет содержит в себе 45211 строк, 17 колонок. Пропущенных значений нет. 7 числовых значений и 10 текстовых значений. "
   ]
  },
  {
   "cell_type": "code",
   "execution_count": 3,
   "id": "6702469f",
   "metadata": {},
   "outputs": [
    {
     "data": {
      "text/plain": [
       "age            77\n",
       "job            12\n",
       "marital         3\n",
       "education       4\n",
       "default         2\n",
       "balance      7168\n",
       "housing         2\n",
       "loan            2\n",
       "contact         3\n",
       "day            31\n",
       "month          12\n",
       "duration     1573\n",
       "campaign       48\n",
       "pdays         559\n",
       "previous       41\n",
       "poutcome        4\n",
       "y               2\n",
       "dtype: int64"
      ]
     },
     "execution_count": 3,
     "metadata": {},
     "output_type": "execute_result"
    }
   ],
   "source": [
    "bank_m.nunique() #количество уникальных значений"
   ]
  },
  {
   "cell_type": "code",
   "execution_count": 4,
   "id": "a184e10c",
   "metadata": {},
   "outputs": [
    {
     "data": {
      "text/plain": [
       "Index(['age', 'job', 'marital', 'education', 'default', 'balance', 'housing',\n",
       "       'loan', 'contact', 'day', 'month', 'duration', 'campaign', 'pdays',\n",
       "       'previous', 'poutcome', 'y'],\n",
       "      dtype='object')"
      ]
     },
     "execution_count": 4,
     "metadata": {},
     "output_type": "execute_result"
    }
   ],
   "source": [
    "bank_m.columns #переименуем колоники, чтобы было удобнее дальше анализировать "
   ]
  },
  {
   "cell_type": "code",
   "execution_count": 5,
   "id": "b385e731",
   "metadata": {},
   "outputs": [],
   "source": [
    "bank_m.rename(columns = {'age':'возраст', 'job':'сфера работы', 'marital':'статус',\n",
    "                            'education':'образование', 'default':'дефолт', 'balance':'баланс', \n",
    "                            'housing':'ипотека','loan':'кредит', \n",
    "                            'contact':'тип связи', 'day':'день', \n",
    "                            'month':'месяц', 'duration':'продолжительность разговора', 'campaign':'количество контактов',\n",
    "                            'pdays':'дни от последнего контакта', 'previous':'количество контактов ранее', 'poutcome':'результат прошлой кампании', \n",
    "                            'y':'подписка'}, inplace = True)"
   ]
  },
  {
   "cell_type": "code",
   "execution_count": 6,
   "id": "5b2ea6f6",
   "metadata": {},
   "outputs": [
    {
     "data": {
      "text/html": [
       "<div>\n",
       "<style scoped>\n",
       "    .dataframe tbody tr th:only-of-type {\n",
       "        vertical-align: middle;\n",
       "    }\n",
       "\n",
       "    .dataframe tbody tr th {\n",
       "        vertical-align: top;\n",
       "    }\n",
       "\n",
       "    .dataframe thead th {\n",
       "        text-align: right;\n",
       "    }\n",
       "</style>\n",
       "<table border=\"1\" class=\"dataframe\">\n",
       "  <thead>\n",
       "    <tr style=\"text-align: right;\">\n",
       "      <th></th>\n",
       "      <th>возраст</th>\n",
       "      <th>сфера работы</th>\n",
       "      <th>статус</th>\n",
       "      <th>образование</th>\n",
       "      <th>дефолт</th>\n",
       "      <th>баланс</th>\n",
       "      <th>ипотека</th>\n",
       "      <th>кредит</th>\n",
       "      <th>тип связи</th>\n",
       "      <th>день</th>\n",
       "      <th>месяц</th>\n",
       "      <th>продолжительность разговора</th>\n",
       "      <th>количество контактов</th>\n",
       "      <th>дни от последнего контакта</th>\n",
       "      <th>количество контактов ранее</th>\n",
       "      <th>результат прошлой кампании</th>\n",
       "      <th>подписка</th>\n",
       "    </tr>\n",
       "  </thead>\n",
       "  <tbody>\n",
       "    <tr>\n",
       "      <th>45206</th>\n",
       "      <td>51</td>\n",
       "      <td>technician</td>\n",
       "      <td>married</td>\n",
       "      <td>tertiary</td>\n",
       "      <td>no</td>\n",
       "      <td>825</td>\n",
       "      <td>no</td>\n",
       "      <td>no</td>\n",
       "      <td>cellular</td>\n",
       "      <td>17</td>\n",
       "      <td>nov</td>\n",
       "      <td>977</td>\n",
       "      <td>3</td>\n",
       "      <td>-1</td>\n",
       "      <td>0</td>\n",
       "      <td>unknown</td>\n",
       "      <td>yes</td>\n",
       "    </tr>\n",
       "    <tr>\n",
       "      <th>45207</th>\n",
       "      <td>71</td>\n",
       "      <td>retired</td>\n",
       "      <td>divorced</td>\n",
       "      <td>primary</td>\n",
       "      <td>no</td>\n",
       "      <td>1729</td>\n",
       "      <td>no</td>\n",
       "      <td>no</td>\n",
       "      <td>cellular</td>\n",
       "      <td>17</td>\n",
       "      <td>nov</td>\n",
       "      <td>456</td>\n",
       "      <td>2</td>\n",
       "      <td>-1</td>\n",
       "      <td>0</td>\n",
       "      <td>unknown</td>\n",
       "      <td>yes</td>\n",
       "    </tr>\n",
       "    <tr>\n",
       "      <th>45208</th>\n",
       "      <td>72</td>\n",
       "      <td>retired</td>\n",
       "      <td>married</td>\n",
       "      <td>secondary</td>\n",
       "      <td>no</td>\n",
       "      <td>5715</td>\n",
       "      <td>no</td>\n",
       "      <td>no</td>\n",
       "      <td>cellular</td>\n",
       "      <td>17</td>\n",
       "      <td>nov</td>\n",
       "      <td>1127</td>\n",
       "      <td>5</td>\n",
       "      <td>184</td>\n",
       "      <td>3</td>\n",
       "      <td>success</td>\n",
       "      <td>yes</td>\n",
       "    </tr>\n",
       "    <tr>\n",
       "      <th>45209</th>\n",
       "      <td>57</td>\n",
       "      <td>blue-collar</td>\n",
       "      <td>married</td>\n",
       "      <td>secondary</td>\n",
       "      <td>no</td>\n",
       "      <td>668</td>\n",
       "      <td>no</td>\n",
       "      <td>no</td>\n",
       "      <td>telephone</td>\n",
       "      <td>17</td>\n",
       "      <td>nov</td>\n",
       "      <td>508</td>\n",
       "      <td>4</td>\n",
       "      <td>-1</td>\n",
       "      <td>0</td>\n",
       "      <td>unknown</td>\n",
       "      <td>no</td>\n",
       "    </tr>\n",
       "    <tr>\n",
       "      <th>45210</th>\n",
       "      <td>37</td>\n",
       "      <td>entrepreneur</td>\n",
       "      <td>married</td>\n",
       "      <td>secondary</td>\n",
       "      <td>no</td>\n",
       "      <td>2971</td>\n",
       "      <td>no</td>\n",
       "      <td>no</td>\n",
       "      <td>cellular</td>\n",
       "      <td>17</td>\n",
       "      <td>nov</td>\n",
       "      <td>361</td>\n",
       "      <td>2</td>\n",
       "      <td>188</td>\n",
       "      <td>11</td>\n",
       "      <td>other</td>\n",
       "      <td>no</td>\n",
       "    </tr>\n",
       "  </tbody>\n",
       "</table>\n",
       "</div>"
      ],
      "text/plain": [
       "       возраст  сфера работы    статус образование дефолт  баланс ипотека  \\\n",
       "45206       51    technician   married    tertiary     no     825      no   \n",
       "45207       71       retired  divorced     primary     no    1729      no   \n",
       "45208       72       retired   married   secondary     no    5715      no   \n",
       "45209       57   blue-collar   married   secondary     no     668      no   \n",
       "45210       37  entrepreneur   married   secondary     no    2971      no   \n",
       "\n",
       "      кредит  тип связи  день месяц  продолжительность разговора  \\\n",
       "45206     no   cellular    17   nov                          977   \n",
       "45207     no   cellular    17   nov                          456   \n",
       "45208     no   cellular    17   nov                         1127   \n",
       "45209     no  telephone    17   nov                          508   \n",
       "45210     no   cellular    17   nov                          361   \n",
       "\n",
       "       количество контактов  дни от последнего контакта  \\\n",
       "45206                     3                          -1   \n",
       "45207                     2                          -1   \n",
       "45208                     5                         184   \n",
       "45209                     4                          -1   \n",
       "45210                     2                         188   \n",
       "\n",
       "       количество контактов ранее результат прошлой кампании подписка  \n",
       "45206                           0                    unknown      yes  \n",
       "45207                           0                    unknown      yes  \n",
       "45208                           3                    success      yes  \n",
       "45209                           0                    unknown       no  \n",
       "45210                          11                      other       no  "
      ]
     },
     "execution_count": 6,
     "metadata": {},
     "output_type": "execute_result"
    }
   ],
   "source": [
    "bank_m.tail() #посмотрим на конец датасета и проверим, переименовались ли колонки "
   ]
  },
  {
   "cell_type": "code",
   "execution_count": 7,
   "id": "36c1f949",
   "metadata": {},
   "outputs": [
    {
     "data": {
      "text/html": [
       "<div>\n",
       "<style scoped>\n",
       "    .dataframe tbody tr th:only-of-type {\n",
       "        vertical-align: middle;\n",
       "    }\n",
       "\n",
       "    .dataframe tbody tr th {\n",
       "        vertical-align: top;\n",
       "    }\n",
       "\n",
       "    .dataframe thead th {\n",
       "        text-align: right;\n",
       "    }\n",
       "</style>\n",
       "<table border=\"1\" class=\"dataframe\">\n",
       "  <thead>\n",
       "    <tr style=\"text-align: right;\">\n",
       "      <th></th>\n",
       "      <th>возраст</th>\n",
       "      <th>баланс</th>\n",
       "      <th>день</th>\n",
       "      <th>продолжительность разговора</th>\n",
       "      <th>количество контактов</th>\n",
       "      <th>дни от последнего контакта</th>\n",
       "      <th>количество контактов ранее</th>\n",
       "    </tr>\n",
       "  </thead>\n",
       "  <tbody>\n",
       "    <tr>\n",
       "      <th>count</th>\n",
       "      <td>45211.000000</td>\n",
       "      <td>45211.000000</td>\n",
       "      <td>45211.000000</td>\n",
       "      <td>45211.000000</td>\n",
       "      <td>45211.000000</td>\n",
       "      <td>45211.000000</td>\n",
       "      <td>45211.000000</td>\n",
       "    </tr>\n",
       "    <tr>\n",
       "      <th>mean</th>\n",
       "      <td>40.936210</td>\n",
       "      <td>1362.272058</td>\n",
       "      <td>15.806419</td>\n",
       "      <td>258.163080</td>\n",
       "      <td>2.763841</td>\n",
       "      <td>40.197828</td>\n",
       "      <td>0.580323</td>\n",
       "    </tr>\n",
       "    <tr>\n",
       "      <th>std</th>\n",
       "      <td>10.618762</td>\n",
       "      <td>3044.765829</td>\n",
       "      <td>8.322476</td>\n",
       "      <td>257.527812</td>\n",
       "      <td>3.098021</td>\n",
       "      <td>100.128746</td>\n",
       "      <td>2.303441</td>\n",
       "    </tr>\n",
       "    <tr>\n",
       "      <th>min</th>\n",
       "      <td>18.000000</td>\n",
       "      <td>-8019.000000</td>\n",
       "      <td>1.000000</td>\n",
       "      <td>0.000000</td>\n",
       "      <td>1.000000</td>\n",
       "      <td>-1.000000</td>\n",
       "      <td>0.000000</td>\n",
       "    </tr>\n",
       "    <tr>\n",
       "      <th>25%</th>\n",
       "      <td>33.000000</td>\n",
       "      <td>72.000000</td>\n",
       "      <td>8.000000</td>\n",
       "      <td>103.000000</td>\n",
       "      <td>1.000000</td>\n",
       "      <td>-1.000000</td>\n",
       "      <td>0.000000</td>\n",
       "    </tr>\n",
       "    <tr>\n",
       "      <th>50%</th>\n",
       "      <td>39.000000</td>\n",
       "      <td>448.000000</td>\n",
       "      <td>16.000000</td>\n",
       "      <td>180.000000</td>\n",
       "      <td>2.000000</td>\n",
       "      <td>-1.000000</td>\n",
       "      <td>0.000000</td>\n",
       "    </tr>\n",
       "    <tr>\n",
       "      <th>75%</th>\n",
       "      <td>48.000000</td>\n",
       "      <td>1428.000000</td>\n",
       "      <td>21.000000</td>\n",
       "      <td>319.000000</td>\n",
       "      <td>3.000000</td>\n",
       "      <td>-1.000000</td>\n",
       "      <td>0.000000</td>\n",
       "    </tr>\n",
       "    <tr>\n",
       "      <th>max</th>\n",
       "      <td>95.000000</td>\n",
       "      <td>102127.000000</td>\n",
       "      <td>31.000000</td>\n",
       "      <td>4918.000000</td>\n",
       "      <td>63.000000</td>\n",
       "      <td>871.000000</td>\n",
       "      <td>275.000000</td>\n",
       "    </tr>\n",
       "  </tbody>\n",
       "</table>\n",
       "</div>"
      ],
      "text/plain": [
       "            возраст         баланс          день  продолжительность разговора  \\\n",
       "count  45211.000000   45211.000000  45211.000000                 45211.000000   \n",
       "mean      40.936210    1362.272058     15.806419                   258.163080   \n",
       "std       10.618762    3044.765829      8.322476                   257.527812   \n",
       "min       18.000000   -8019.000000      1.000000                     0.000000   \n",
       "25%       33.000000      72.000000      8.000000                   103.000000   \n",
       "50%       39.000000     448.000000     16.000000                   180.000000   \n",
       "75%       48.000000    1428.000000     21.000000                   319.000000   \n",
       "max       95.000000  102127.000000     31.000000                  4918.000000   \n",
       "\n",
       "       количество контактов  дни от последнего контакта  \\\n",
       "count          45211.000000                45211.000000   \n",
       "mean               2.763841                   40.197828   \n",
       "std                3.098021                  100.128746   \n",
       "min                1.000000                   -1.000000   \n",
       "25%                1.000000                   -1.000000   \n",
       "50%                2.000000                   -1.000000   \n",
       "75%                3.000000                   -1.000000   \n",
       "max               63.000000                  871.000000   \n",
       "\n",
       "       количество контактов ранее  \n",
       "count                45211.000000  \n",
       "mean                     0.580323  \n",
       "std                      2.303441  \n",
       "min                      0.000000  \n",
       "25%                      0.000000  \n",
       "50%                      0.000000  \n",
       "75%                      0.000000  \n",
       "max                    275.000000  "
      ]
     },
     "execution_count": 7,
     "metadata": {},
     "output_type": "execute_result"
    }
   ],
   "source": [
    "bank_m.describe()"
   ]
  },
  {
   "cell_type": "code",
   "execution_count": 8,
   "id": "0eaa95bf",
   "metadata": {},
   "outputs": [
    {
     "name": "stderr",
     "output_type": "stream",
     "text": [
      "C:\\Users\\kolya\\AppData\\Local\\Temp\\ipykernel_32936\\2414198735.py:1: DeprecationWarning: `np.object` is a deprecated alias for the builtin `object`. To silence this warning, use `object` by itself. Doing this will not modify any behavior and is safe. \n",
      "Deprecated in NumPy 1.20; for more details and guidance: https://numpy.org/devdocs/release/1.20.0-notes.html#deprecations\n",
      "  bank_m.describe(include=[np.object])\n"
     ]
    },
    {
     "data": {
      "text/html": [
       "<div>\n",
       "<style scoped>\n",
       "    .dataframe tbody tr th:only-of-type {\n",
       "        vertical-align: middle;\n",
       "    }\n",
       "\n",
       "    .dataframe tbody tr th {\n",
       "        vertical-align: top;\n",
       "    }\n",
       "\n",
       "    .dataframe thead th {\n",
       "        text-align: right;\n",
       "    }\n",
       "</style>\n",
       "<table border=\"1\" class=\"dataframe\">\n",
       "  <thead>\n",
       "    <tr style=\"text-align: right;\">\n",
       "      <th></th>\n",
       "      <th>сфера работы</th>\n",
       "      <th>статус</th>\n",
       "      <th>образование</th>\n",
       "      <th>дефолт</th>\n",
       "      <th>ипотека</th>\n",
       "      <th>кредит</th>\n",
       "      <th>тип связи</th>\n",
       "      <th>месяц</th>\n",
       "      <th>результат прошлой кампании</th>\n",
       "      <th>подписка</th>\n",
       "    </tr>\n",
       "  </thead>\n",
       "  <tbody>\n",
       "    <tr>\n",
       "      <th>count</th>\n",
       "      <td>45211</td>\n",
       "      <td>45211</td>\n",
       "      <td>45211</td>\n",
       "      <td>45211</td>\n",
       "      <td>45211</td>\n",
       "      <td>45211</td>\n",
       "      <td>45211</td>\n",
       "      <td>45211</td>\n",
       "      <td>45211</td>\n",
       "      <td>45211</td>\n",
       "    </tr>\n",
       "    <tr>\n",
       "      <th>unique</th>\n",
       "      <td>12</td>\n",
       "      <td>3</td>\n",
       "      <td>4</td>\n",
       "      <td>2</td>\n",
       "      <td>2</td>\n",
       "      <td>2</td>\n",
       "      <td>3</td>\n",
       "      <td>12</td>\n",
       "      <td>4</td>\n",
       "      <td>2</td>\n",
       "    </tr>\n",
       "    <tr>\n",
       "      <th>top</th>\n",
       "      <td>blue-collar</td>\n",
       "      <td>married</td>\n",
       "      <td>secondary</td>\n",
       "      <td>no</td>\n",
       "      <td>yes</td>\n",
       "      <td>no</td>\n",
       "      <td>cellular</td>\n",
       "      <td>may</td>\n",
       "      <td>unknown</td>\n",
       "      <td>no</td>\n",
       "    </tr>\n",
       "    <tr>\n",
       "      <th>freq</th>\n",
       "      <td>9732</td>\n",
       "      <td>27214</td>\n",
       "      <td>23202</td>\n",
       "      <td>44396</td>\n",
       "      <td>25130</td>\n",
       "      <td>37967</td>\n",
       "      <td>29285</td>\n",
       "      <td>13766</td>\n",
       "      <td>36959</td>\n",
       "      <td>39922</td>\n",
       "    </tr>\n",
       "  </tbody>\n",
       "</table>\n",
       "</div>"
      ],
      "text/plain": [
       "       сфера работы   статус образование дефолт ипотека кредит тип связи  \\\n",
       "count         45211    45211       45211  45211   45211  45211     45211   \n",
       "unique           12        3           4      2       2      2         3   \n",
       "top     blue-collar  married   secondary     no     yes     no  cellular   \n",
       "freq           9732    27214       23202  44396   25130  37967     29285   \n",
       "\n",
       "        месяц результат прошлой кампании подписка  \n",
       "count   45211                      45211    45211  \n",
       "unique     12                          4        2  \n",
       "top       may                    unknown       no  \n",
       "freq    13766                      36959    39922  "
      ]
     },
     "execution_count": 8,
     "metadata": {},
     "output_type": "execute_result"
    }
   ],
   "source": [
    "bank_m.describe(include=[np.object]) "
   ]
  },
  {
   "cell_type": "code",
   "execution_count": 9,
   "id": "1d828c9e",
   "metadata": {},
   "outputs": [
    {
     "data": {
      "text/plain": [
       "<AxesSubplot:xlabel='возраст', ylabel='Count'>"
      ]
     },
     "execution_count": 9,
     "metadata": {},
     "output_type": "execute_result"
    },
    {
     "data": {
      "image/png": "[encoded data removed]",
      "text/plain": [
       "<Figure size 432x288 with 1 Axes>"
      ]
     },
     "metadata": {
      "needs_background": "light"
     },
     "output_type": "display_data"
    }
   ],
   "source": [
    "sns.histplot(bank_m['возраст'], color = '#7cdac4ff')"
   ]
  },
  {
   "cell_type": "code",
   "execution_count": 10,
   "id": "13b964a2",
   "metadata": {},
   "outputs": [
    {
     "data": {
      "text/plain": [
       "<AxesSubplot:ylabel='баланс'>"
      ]
     },
     "execution_count": 10,
     "metadata": {},
     "output_type": "execute_result"
    },
    {
     "data": {
      "image/png": "[encoded data removed]",
      "text/plain": [
       "<Figure size 432x288 with 1 Axes>"
      ]
     },
     "metadata": {},
     "output_type": "display_data"
    }
   ],
   "source": [
    "bank_m.groupby('сфера работы')['баланс'].sum().plot(kind='pie') #круговая диаграмма "
   ]
  },
  {
   "cell_type": "code",
   "execution_count": 11,
   "id": "2b4a02c0",
   "metadata": {},
   "outputs": [
    {
     "data": {
      "text/plain": [
       "<AxesSubplot:ylabel='баланс'>"
      ]
     },
     "execution_count": 11,
     "metadata": {},
     "output_type": "execute_result"
    },
    {
     "data": {
      "image/png": "[encoded data removed]",
      "text/plain": [
       "<Figure size 432x288 with 1 Axes>"
      ]
     },
     "metadata": {},
     "output_type": "display_data"
    }
   ],
   "source": [
    "bank_m.groupby('образование')['баланс'].sum().plot(kind='pie')"
   ]
  },
  {
   "cell_type": "code",
   "execution_count": 12,
   "id": "517a73b3",
   "metadata": {},
   "outputs": [
    {
     "data": {
      "image/png": "[encoded data removed]",
      "text/plain": [
       "<Figure size 432x288 with 1 Axes>"
      ]
     },
     "metadata": {
      "needs_background": "light"
     },
     "output_type": "display_data"
    }
   ],
   "source": [
    "sns.barplot(x=bank_m['дефолт'].value_counts().index, y=bank_m['дефолт'].value_counts())\n",
    "plt.show() #столбчатая диаграмма "
   ]
  },
  {
   "cell_type": "markdown",
   "id": "dbb535f4",
   "metadata": {},
   "source": [
    "Датасет содержит не так много персональной информации о клиентах. \n",
    "На певом этапе удалось выяснтить:\n",
    "- средний возраст клиентов 40 лет, хотя разброс лежит от 18 до 95 лет\n",
    "- больше всего денежных средств на счете у работников в сфере менеджмента и у тех, кто окончил среднуюю школу (интересно, что люди с вышим професссилнальным образованием расположились на втором месте по размеру баланса)\n",
    "- Лишь малая часть клиентов не может выплатить свои долги из-за дефолта "
   ]
  },
  {
   "cell_type": "markdown",
   "id": "9c158cfc",
   "metadata": {},
   "source": [
    "Датасет содержит в себе информацию о прошлой рекламной маркетинговой кампании. Изучим подробнее. "
   ]
  },
  {
   "cell_type": "code",
   "execution_count": 13,
   "id": "09597e27",
   "metadata": {},
   "outputs": [
    {
     "data": {
      "text/plain": [
       "may    13766\n",
       "jul     6895\n",
       "aug     6247\n",
       "jun     5341\n",
       "nov     3970\n",
       "apr     2932\n",
       "feb     2649\n",
       "jan     1403\n",
       "oct      738\n",
       "sep      579\n",
       "mar      477\n",
       "dec      214\n",
       "Name: месяц, dtype: int64"
      ]
     },
     "execution_count": 13,
     "metadata": {},
     "output_type": "execute_result"
    }
   ],
   "source": [
    "bank_m['месяц'].value_counts() #в какие месяцы чаще всего совершались звонки с предложением услуги "
   ]
  },
  {
   "cell_type": "code",
   "execution_count": 15,
   "id": "97030b14",
   "metadata": {},
   "outputs": [
    {
     "data": {
      "text/plain": [
       "258.1630797814691"
      ]
     },
     "execution_count": 15,
     "metadata": {},
     "output_type": "execute_result"
    }
   ],
   "source": [
    "bank_m['продолжительность разговора'].mean() #средняя продолжительность разговора с клиетами "
   ]
  },
  {
   "cell_type": "code",
   "execution_count": 20,
   "id": "1038cab2",
   "metadata": {},
   "outputs": [
    {
     "name": "stderr",
     "output_type": "stream",
     "text": [
      "C:\\Users\\kolya\\AppData\\Local\\Temp\\ipykernel_32936\\4294529235.py:1: FutureWarning: Indexing with multiple keys (implicitly converted to a tuple of keys) will be deprecated, use a list instead.\n",
      "  results = bank_m.groupby('результат прошлой кампании')['статус','продолжительность разговора'].sum().sort_values(by=['продолжительность разговора'], ascending=False).head(n=10)\n"
     ]
    },
    {
     "data": {
      "text/html": [
       "<div>\n",
       "<style scoped>\n",
       "    .dataframe tbody tr th:only-of-type {\n",
       "        vertical-align: middle;\n",
       "    }\n",
       "\n",
       "    .dataframe tbody tr th {\n",
       "        vertical-align: top;\n",
       "    }\n",
       "\n",
       "    .dataframe thead th {\n",
       "        text-align: right;\n",
       "    }\n",
       "</style>\n",
       "<table border=\"1\" class=\"dataframe\">\n",
       "  <thead>\n",
       "    <tr style=\"text-align: right;\">\n",
       "      <th></th>\n",
       "      <th>продолжительность разговора</th>\n",
       "    </tr>\n",
       "    <tr>\n",
       "      <th>результат прошлой кампании</th>\n",
       "      <th></th>\n",
       "    </tr>\n",
       "  </thead>\n",
       "  <tbody>\n",
       "    <tr>\n",
       "      <th>unknown</th>\n",
       "      <td>9525751</td>\n",
       "    </tr>\n",
       "    <tr>\n",
       "      <th>failure</th>\n",
       "      <td>1196755</td>\n",
       "    </tr>\n",
       "    <tr>\n",
       "      <th>success</th>\n",
       "      <td>478789</td>\n",
       "    </tr>\n",
       "    <tr>\n",
       "      <th>other</th>\n",
       "      <td>470516</td>\n",
       "    </tr>\n",
       "  </tbody>\n",
       "</table>\n",
       "</div>"
      ],
      "text/plain": [
       "                            продолжительность разговора\n",
       "результат прошлой кампании                             \n",
       "unknown                                         9525751\n",
       "failure                                         1196755\n",
       "success                                          478789\n",
       "other                                            470516"
      ]
     },
     "execution_count": 20,
     "metadata": {},
     "output_type": "execute_result"
    }
   ],
   "source": [
    "results = bank_m.groupby('результат прошлой кампании')['статус','продолжительность разговора'].sum().sort_values(by=['продолжительность разговора'], ascending=False).head(n=10)\n",
    "results #множественная сортировка и фильтрация по убыванию "
   ]
  },
  {
   "cell_type": "code",
   "execution_count": 21,
   "id": "34ee745b",
   "metadata": {},
   "outputs": [
    {
     "data": {
      "text/plain": [
       "<AxesSubplot:xlabel='результат прошлой кампании'>"
      ]
     },
     "execution_count": 21,
     "metadata": {},
     "output_type": "execute_result"
    },
    {
     "data": {
      "image/png": "[encoded data removed]",
      "text/plain": [
       "<Figure size 432x288 with 1 Axes>"
      ]
     },
     "metadata": {
      "needs_background": "light"
     },
     "output_type": "display_data"
    }
   ],
   "source": [
    "results.plot(kind='bar')"
   ]
  },
  {
   "cell_type": "markdown",
   "id": "efd92d6b",
   "metadata": {},
   "source": [
    "По первому исследованию кампании можно сказать следующее:\n",
    "- Рекламная кампания длилась в течение года, большая часть звонков пришлась на май\n",
    "- Средняя продолжительность разговора с клиентом составляла 258 секунд \n",
    "- к сожалению, в датасете известно очень мало про то, как завершилась рекламная кампания (успешно или нет)"
   ]
  },
  {
   "cell_type": "markdown",
   "id": "7db105b8",
   "metadata": {},
   "source": [
    "Далее посмотрим есть ли взамосвязи."
   ]
  },
  {
   "cell_type": "code",
   "execution_count": 22,
   "id": "338eb423",
   "metadata": {},
   "outputs": [],
   "source": [
    "bank_m[\"кредит_cat\"] = np.where(bank_m['кредит'] == \"yes\", 1, 0)"
   ]
  },
  {
   "cell_type": "code",
   "execution_count": 23,
   "id": "36ed18b5",
   "metadata": {},
   "outputs": [],
   "source": [
    "bank_m[\"подписка_cat\"] = np.where(bank_m['подписка'] == \"yes\", 1, 0)"
   ]
  },
  {
   "cell_type": "code",
   "execution_count": 24,
   "id": "228eecfa",
   "metadata": {},
   "outputs": [],
   "source": [
    "bank_m[\"результат прошлой кампании\"] = bank_m[\"результат прошлой кампании\"].astype('category')"
   ]
  },
  {
   "cell_type": "code",
   "execution_count": 25,
   "id": "bdea4336",
   "metadata": {},
   "outputs": [
    {
     "data": {
      "text/html": [
       "<div>\n",
       "<style scoped>\n",
       "    .dataframe tbody tr th:only-of-type {\n",
       "        vertical-align: middle;\n",
       "    }\n",
       "\n",
       "    .dataframe tbody tr th {\n",
       "        vertical-align: top;\n",
       "    }\n",
       "\n",
       "    .dataframe thead th {\n",
       "        text-align: right;\n",
       "    }\n",
       "</style>\n",
       "<table border=\"1\" class=\"dataframe\">\n",
       "  <thead>\n",
       "    <tr style=\"text-align: right;\">\n",
       "      <th></th>\n",
       "      <th>возраст</th>\n",
       "      <th>сфера работы</th>\n",
       "      <th>статус</th>\n",
       "      <th>образование</th>\n",
       "      <th>дефолт</th>\n",
       "      <th>баланс</th>\n",
       "      <th>ипотека</th>\n",
       "      <th>кредит</th>\n",
       "      <th>тип связи</th>\n",
       "      <th>день</th>\n",
       "      <th>месяц</th>\n",
       "      <th>продолжительность разговора</th>\n",
       "      <th>количество контактов</th>\n",
       "      <th>дни от последнего контакта</th>\n",
       "      <th>количество контактов ранее</th>\n",
       "      <th>результат прошлой кампании</th>\n",
       "      <th>подписка</th>\n",
       "      <th>кредит_cat</th>\n",
       "      <th>подписка_cat</th>\n",
       "      <th>результат прошлой кампании_cat</th>\n",
       "    </tr>\n",
       "  </thead>\n",
       "  <tbody>\n",
       "    <tr>\n",
       "      <th>0</th>\n",
       "      <td>58</td>\n",
       "      <td>management</td>\n",
       "      <td>married</td>\n",
       "      <td>tertiary</td>\n",
       "      <td>no</td>\n",
       "      <td>2143</td>\n",
       "      <td>yes</td>\n",
       "      <td>no</td>\n",
       "      <td>unknown</td>\n",
       "      <td>5</td>\n",
       "      <td>may</td>\n",
       "      <td>261</td>\n",
       "      <td>1</td>\n",
       "      <td>-1</td>\n",
       "      <td>0</td>\n",
       "      <td>unknown</td>\n",
       "      <td>no</td>\n",
       "      <td>0</td>\n",
       "      <td>0</td>\n",
       "      <td>3</td>\n",
       "    </tr>\n",
       "    <tr>\n",
       "      <th>1</th>\n",
       "      <td>44</td>\n",
       "      <td>technician</td>\n",
       "      <td>single</td>\n",
       "      <td>secondary</td>\n",
       "      <td>no</td>\n",
       "      <td>29</td>\n",
       "      <td>yes</td>\n",
       "      <td>no</td>\n",
       "      <td>unknown</td>\n",
       "      <td>5</td>\n",
       "      <td>may</td>\n",
       "      <td>151</td>\n",
       "      <td>1</td>\n",
       "      <td>-1</td>\n",
       "      <td>0</td>\n",
       "      <td>unknown</td>\n",
       "      <td>no</td>\n",
       "      <td>0</td>\n",
       "      <td>0</td>\n",
       "      <td>3</td>\n",
       "    </tr>\n",
       "    <tr>\n",
       "      <th>2</th>\n",
       "      <td>33</td>\n",
       "      <td>entrepreneur</td>\n",
       "      <td>married</td>\n",
       "      <td>secondary</td>\n",
       "      <td>no</td>\n",
       "      <td>2</td>\n",
       "      <td>yes</td>\n",
       "      <td>yes</td>\n",
       "      <td>unknown</td>\n",
       "      <td>5</td>\n",
       "      <td>may</td>\n",
       "      <td>76</td>\n",
       "      <td>1</td>\n",
       "      <td>-1</td>\n",
       "      <td>0</td>\n",
       "      <td>unknown</td>\n",
       "      <td>no</td>\n",
       "      <td>1</td>\n",
       "      <td>0</td>\n",
       "      <td>3</td>\n",
       "    </tr>\n",
       "    <tr>\n",
       "      <th>3</th>\n",
       "      <td>47</td>\n",
       "      <td>blue-collar</td>\n",
       "      <td>married</td>\n",
       "      <td>unknown</td>\n",
       "      <td>no</td>\n",
       "      <td>1506</td>\n",
       "      <td>yes</td>\n",
       "      <td>no</td>\n",
       "      <td>unknown</td>\n",
       "      <td>5</td>\n",
       "      <td>may</td>\n",
       "      <td>92</td>\n",
       "      <td>1</td>\n",
       "      <td>-1</td>\n",
       "      <td>0</td>\n",
       "      <td>unknown</td>\n",
       "      <td>no</td>\n",
       "      <td>0</td>\n",
       "      <td>0</td>\n",
       "      <td>3</td>\n",
       "    </tr>\n",
       "    <tr>\n",
       "      <th>4</th>\n",
       "      <td>33</td>\n",
       "      <td>unknown</td>\n",
       "      <td>single</td>\n",
       "      <td>unknown</td>\n",
       "      <td>no</td>\n",
       "      <td>1</td>\n",
       "      <td>no</td>\n",
       "      <td>no</td>\n",
       "      <td>unknown</td>\n",
       "      <td>5</td>\n",
       "      <td>may</td>\n",
       "      <td>198</td>\n",
       "      <td>1</td>\n",
       "      <td>-1</td>\n",
       "      <td>0</td>\n",
       "      <td>unknown</td>\n",
       "      <td>no</td>\n",
       "      <td>0</td>\n",
       "      <td>0</td>\n",
       "      <td>3</td>\n",
       "    </tr>\n",
       "  </tbody>\n",
       "</table>\n",
       "</div>"
      ],
      "text/plain": [
       "   возраст  сфера работы   статус образование дефолт  баланс ипотека кредит  \\\n",
       "0       58    management  married    tertiary     no    2143     yes     no   \n",
       "1       44    technician   single   secondary     no      29     yes     no   \n",
       "2       33  entrepreneur  married   secondary     no       2     yes    yes   \n",
       "3       47   blue-collar  married     unknown     no    1506     yes     no   \n",
       "4       33       unknown   single     unknown     no       1      no     no   \n",
       "\n",
       "  тип связи  день месяц  продолжительность разговора  количество контактов  \\\n",
       "0   unknown     5   may                          261                     1   \n",
       "1   unknown     5   may                          151                     1   \n",
       "2   unknown     5   may                           76                     1   \n",
       "3   unknown     5   may                           92                     1   \n",
       "4   unknown     5   may                          198                     1   \n",
       "\n",
       "   дни от последнего контакта  количество контактов ранее  \\\n",
       "0                          -1                           0   \n",
       "1                          -1                           0   \n",
       "2                          -1                           0   \n",
       "3                          -1                           0   \n",
       "4                          -1                           0   \n",
       "\n",
       "  результат прошлой кампании подписка  кредит_cat  подписка_cat  \\\n",
       "0                    unknown       no           0             0   \n",
       "1                    unknown       no           0             0   \n",
       "2                    unknown       no           1             0   \n",
       "3                    unknown       no           0             0   \n",
       "4                    unknown       no           0             0   \n",
       "\n",
       "   результат прошлой кампании_cat  \n",
       "0                               3  \n",
       "1                               3  \n",
       "2                               3  \n",
       "3                               3  \n",
       "4                               3  "
      ]
     },
     "execution_count": 25,
     "metadata": {},
     "output_type": "execute_result"
    }
   ],
   "source": [
    "bank_m[\"результат прошлой кампании_cat\"] = bank_m[\"результат прошлой кампании\"].cat.codes\n",
    "bank_m.head()"
   ]
  },
  {
   "cell_type": "code",
   "execution_count": 27,
   "id": "4627565b",
   "metadata": {},
   "outputs": [],
   "source": [
    "cols_num = ['возраст', 'баланс', 'продолжительность разговора', 'количество контактов', 'количество контактов ранее',\n",
    "            'дни от последнего контакта', 'результат прошлой кампании_cat', 'подписка_cat', 'кредит_cat']"
   ]
  },
  {
   "cell_type": "code",
   "execution_count": 30,
   "id": "8116426a",
   "metadata": {},
   "outputs": [],
   "source": [
    "correlation = bank_m.corr().loc[cols_num, cols_num] "
   ]
  },
  {
   "cell_type": "code",
   "execution_count": 31,
   "id": "b7990687",
   "metadata": {},
   "outputs": [
    {
     "data": {
      "text/plain": [
       "<AxesSubplot:>"
      ]
     },
     "execution_count": 31,
     "metadata": {},
     "output_type": "execute_result"
    },
    {
     "data": {
      "image/png": "[encoded data removed]",
      "text/plain": [
       "<Figure size 1440x1440 with 2 Axes>"
      ]
     },
     "metadata": {
      "needs_background": "light"
     },
     "output_type": "display_data"
    }
   ],
   "source": [
    "fig , ax = plt.subplots(figsize = (20,20))\n",
    "\n",
    "sns.heatmap(correlation, \n",
    "            linewidths=0.5, annot=True,cmap='viridis',\n",
    "            linecolor=\"white\", annot_kws = {'size':12}) #тепловая карта"
   ]
  },
  {
   "cell_type": "markdown",
   "id": "5b58e765",
   "metadata": {},
   "source": [
    "На первый взгляд кажется, что данные особо не влияют друг на друга. Прослеживается взаимосвязь между продолжительностью разговора и подпиской; количеством контактов до рекламной кампании и количеством дней от последнего контакта с клиентом. "
   ]
  },
  {
   "cell_type": "markdown",
   "id": "a96ba6de",
   "metadata": {},
   "source": [
    "Во время изучения данных у меня возникло несколько гипотез."
   ]
  },
  {
   "cell_type": "markdown",
   "id": "417d3ec9",
   "metadata": {},
   "source": [
    "Гипотеза №1. Нулевая гипотеза (H0) заключается в том, что в генеральной совокупности не существует зависимости между наличием ипотеки и социальным статусом клиента.\n",
    "\n",
    "H1 гипотеза аключается в том, что в генеральной совокупности существует зависимост между наличием ипотеки и социальным статусом клиента.\n",
    "\n",
    "\n",
    "В повседневной жизни я часто сталкиваюсь с тем, что люди создают семью и берут совметную ипотеку на квартиру. Интересно посмотреть, как это связано с клиентами в данном датасете. "
   ]
  },
  {
   "cell_type": "code",
   "execution_count": 32,
   "id": "3b2f7149",
   "metadata": {},
   "outputs": [],
   "source": [
    "#В данном случае мы смотрим на распределение наблюдений по категориям и строим таблицу сопряженности.\n",
    "#С помощью критерия независимости хи-квадрат мы определим есть ли связь между признаками \"социальный статус\" и \"ипотека\""
   ]
  },
  {
   "cell_type": "code",
   "execution_count": 37,
   "id": "ed898995",
   "metadata": {},
   "outputs": [],
   "source": [
    "alpha = 0.01 #наш уровень значимости, чтобы иметь возможность только 1% ошибки первого рода\n",
    "critical_value = 6.63"
   ]
  },
  {
   "cell_type": "code",
   "execution_count": 38,
   "id": "5343682e",
   "metadata": {},
   "outputs": [
    {
     "data": {
      "text/html": [
       "<div>\n",
       "<style scoped>\n",
       "    .dataframe tbody tr th:only-of-type {\n",
       "        vertical-align: middle;\n",
       "    }\n",
       "\n",
       "    .dataframe tbody tr th {\n",
       "        vertical-align: top;\n",
       "    }\n",
       "\n",
       "    .dataframe thead th {\n",
       "        text-align: right;\n",
       "    }\n",
       "</style>\n",
       "<table border=\"1\" class=\"dataframe\">\n",
       "  <thead>\n",
       "    <tr style=\"text-align: right;\">\n",
       "      <th>статус</th>\n",
       "      <th>divorced</th>\n",
       "      <th>married</th>\n",
       "      <th>single</th>\n",
       "    </tr>\n",
       "    <tr>\n",
       "      <th>ипотека</th>\n",
       "      <th></th>\n",
       "      <th></th>\n",
       "      <th></th>\n",
       "    </tr>\n",
       "  </thead>\n",
       "  <tbody>\n",
       "    <tr>\n",
       "      <th>no</th>\n",
       "      <td>2300</td>\n",
       "      <td>11893</td>\n",
       "      <td>5888</td>\n",
       "    </tr>\n",
       "    <tr>\n",
       "      <th>yes</th>\n",
       "      <td>2907</td>\n",
       "      <td>15321</td>\n",
       "      <td>6902</td>\n",
       "    </tr>\n",
       "  </tbody>\n",
       "</table>\n",
       "</div>"
      ],
      "text/plain": [
       "статус   divorced  married  single\n",
       "ипотека                           \n",
       "no           2300    11893    5888\n",
       "yes          2907    15321    6902"
      ]
     },
     "execution_count": 38,
     "metadata": {},
     "output_type": "execute_result"
    }
   ],
   "source": [
    "house = bank_m.groupby('ипотека')['статус'].value_counts().unstack()\n",
    "house #матрица наблюдаемых частот"
   ]
  },
  {
   "cell_type": "code",
   "execution_count": 39,
   "id": "e3c8fbb7",
   "metadata": {},
   "outputs": [],
   "source": [
    "import scipy.stats #импортируем бибилотеку "
   ]
  },
  {
   "cell_type": "code",
   "execution_count": 42,
   "id": "c9ead511",
   "metadata": {},
   "outputs": [
    {
     "data": {
      "text/plain": [
       "(19.34482003586502,\n",
       " 6.29978462961484e-05,\n",
       " 2,\n",
       " array([[ 2312.75059167, 12087.41974298,  5680.82966535],\n",
       "        [ 2894.24940833, 15126.58025702,  7109.17033465]]))"
      ]
     },
     "execution_count": 42,
     "metadata": {},
     "output_type": "execute_result"
    }
   ],
   "source": [
    "scipy.stats.chi2_contingency(house)\n",
    "#проверяем гипотизу с помощью критерия хи-квадрат. "
   ]
  },
  {
   "cell_type": "markdown",
   "id": "a86b618c",
   "metadata": {},
   "source": [
    "Наш критерий (19.34482003586502) болше критического значения (6.63), а значит, что мы можем отвергнуть нулевую гипотезу.\n",
    "А значит, что социальный статус человека имеет влияние на наличие у него ипотеки. Изобразим зависимсоть на графике ниже. "
   ]
  },
  {
   "cell_type": "code",
   "execution_count": 43,
   "id": "7d1a7fe9",
   "metadata": {
    "scrolled": false
   },
   "outputs": [
    {
     "data": {
      "text/plain": [
       "<AxesSubplot:xlabel='статус'>"
      ]
     },
     "execution_count": 43,
     "metadata": {},
     "output_type": "execute_result"
    },
    {
     "data": {
      "image/png": "[encoded data removed]",
      "text/plain": [
       "<Figure size 432x288 with 1 Axes>"
      ]
     },
     "metadata": {
      "needs_background": "light"
     },
     "output_type": "display_data"
    }
   ],
   "source": [
    "bank_m.groupby('статус')['ипотека'].value_counts().unstack().plot(kind='bar')"
   ]
  },
  {
   "cell_type": "markdown",
   "id": "6c11295d",
   "metadata": {},
   "source": [
    "Далее мне стало интересно проверить есть ли взаимосвязь между социальным статусом и кредитом. Можно это проверить."
   ]
  },
  {
   "cell_type": "code",
   "execution_count": 44,
   "id": "dd85cdcb",
   "metadata": {
    "scrolled": true
   },
   "outputs": [
    {
     "data": {
      "text/html": [
       "<div>\n",
       "<style scoped>\n",
       "    .dataframe tbody tr th:only-of-type {\n",
       "        vertical-align: middle;\n",
       "    }\n",
       "\n",
       "    .dataframe tbody tr th {\n",
       "        vertical-align: top;\n",
       "    }\n",
       "\n",
       "    .dataframe thead th {\n",
       "        text-align: right;\n",
       "    }\n",
       "</style>\n",
       "<table border=\"1\" class=\"dataframe\">\n",
       "  <thead>\n",
       "    <tr style=\"text-align: right;\">\n",
       "      <th>статус</th>\n",
       "      <th>divorced</th>\n",
       "      <th>married</th>\n",
       "      <th>single</th>\n",
       "    </tr>\n",
       "    <tr>\n",
       "      <th>кредит</th>\n",
       "      <th></th>\n",
       "      <th></th>\n",
       "      <th></th>\n",
       "    </tr>\n",
       "  </thead>\n",
       "  <tbody>\n",
       "    <tr>\n",
       "      <th>no</th>\n",
       "      <td>4286</td>\n",
       "      <td>22554</td>\n",
       "      <td>11127</td>\n",
       "    </tr>\n",
       "    <tr>\n",
       "      <th>yes</th>\n",
       "      <td>921</td>\n",
       "      <td>4660</td>\n",
       "      <td>1663</td>\n",
       "    </tr>\n",
       "  </tbody>\n",
       "</table>\n",
       "</div>"
      ],
      "text/plain": [
       "статус  divorced  married  single\n",
       "кредит                           \n",
       "no          4286    22554   11127\n",
       "yes          921     4660    1663"
      ]
     },
     "execution_count": 44,
     "metadata": {},
     "output_type": "execute_result"
    }
   ],
   "source": [
    "loan = bank_m.groupby('кредит')['статус'].value_counts().unstack()\n",
    "loan"
   ]
  },
  {
   "cell_type": "code",
   "execution_count": 46,
   "id": "509963f0",
   "metadata": {
    "scrolled": true
   },
   "outputs": [
    {
     "data": {
      "text/plain": [
       "(121.95253536316297,\n",
       " 3.298704544931424e-27,\n",
       " 2,\n",
       " array([[ 4372.70064807, 22853.59620446, 10740.70314746],\n",
       "        [  834.29935193,  4360.40379554,  2049.29685254]]))"
      ]
     },
     "execution_count": 46,
     "metadata": {},
     "output_type": "execute_result"
    }
   ],
   "source": [
    "scipy.stats.chi2_contingency(loan)\n",
    "#проверяем гипотизу с помощью критерия хи-квадрат. "
   ]
  },
  {
   "cell_type": "code",
   "execution_count": 47,
   "id": "eb48bac6",
   "metadata": {},
   "outputs": [
    {
     "data": {
      "text/plain": [
       "<AxesSubplot:xlabel='статус'>"
      ]
     },
     "execution_count": 47,
     "metadata": {},
     "output_type": "execute_result"
    },
    {
     "data": {
      "image/png": "[encoded data removed]",
      "text/plain": [
       "<Figure size 432x288 with 1 Axes>"
      ]
     },
     "metadata": {
      "needs_background": "light"
     },
     "output_type": "display_data"
    }
   ],
   "source": [
    "bank_m.groupby('статус')['кредит'].value_counts().unstack().plot(kind='bar')"
   ]
  },
  {
   "cell_type": "markdown",
   "id": "b8c63098",
   "metadata": {},
   "source": [
    "Чаще всего семейные люди выплачивают ипотеку, нежели кредит. "
   ]
  },
  {
   "cell_type": "markdown",
   "id": "54497e99",
   "metadata": {},
   "source": [
    "Гипотеза 2. Нулевая гипотеза (H0) заключается в том, что в генеральной совокупности не существует зависимости между продолжительностью разговора и результатом рекламной кампании. \n",
    "\n",
    "H1 гипотеза аключается в том, что в генеральной совокупности существует зависимост между продолжительностью разговора и результатом рекламной кампании. \n",
    "\n",
    "\n",
    "Т.к. я работаю в отделе маркетинга и продаж, могу сказать, что продолжительность разговора должна быть 15-20 минут, это идеальный вариат. За меньшее время будет сложнее выявить потребность клиента, а за большее время его можно утомить предложениями и запутать. Выше мы проверяли, что средняя продолжительность разговора в нашем датасете 258 секунд (всего лишь около 4 минут)."
   ]
  },
  {
   "cell_type": "code",
   "execution_count": 51,
   "id": "6aaa2b7a",
   "metadata": {},
   "outputs": [
    {
     "data": {
      "text/plain": [
       "3    36959\n",
       "0     4901\n",
       "1     1840\n",
       "2     1511\n",
       "Name: результат прошлой кампании_cat, dtype: int64"
      ]
     },
     "execution_count": 51,
     "metadata": {},
     "output_type": "execute_result"
    }
   ],
   "source": [
    "bank_m[\"результат прошлой кампании_cat\"].value_counts() #3 - неизвестно, 0 - провал, 1 - другое, 2 - успех "
   ]
  },
  {
   "cell_type": "code",
   "execution_count": 53,
   "id": "d59e7a82",
   "metadata": {},
   "outputs": [],
   "source": [
    "success = bank_m[bank_m['результат прошлой кампании_cat'] == 2]['продолжительность разговора'] \n",
    "failure = bank_m[bank_m['результат прошлой кампании_cat'] == 0]['продолжительность разговора']\n",
    "#выделим группы тех, с кем кампания была проведена успешно и тех, с кем провально "
   ]
  },
  {
   "cell_type": "code",
   "execution_count": 54,
   "id": "db73e215",
   "metadata": {},
   "outputs": [
    {
     "data": {
      "text/plain": [
       "<AxesSubplot:>"
      ]
     },
     "execution_count": 54,
     "metadata": {},
     "output_type": "execute_result"
    },
    {
     "data": {
      "image/png": "[encoded data removed]",
      "text/plain": [
       "<Figure size 432x288 with 1 Axes>"
      ]
     },
     "metadata": {
      "needs_background": "light"
     },
     "output_type": "display_data"
    }
   ],
   "source": [
    "success.hist()"
   ]
  },
  {
   "cell_type": "code",
   "execution_count": 55,
   "id": "51cf6110",
   "metadata": {
    "scrolled": true
   },
   "outputs": [
    {
     "data": {
      "text/plain": [
       "<AxesSubplot:>"
      ]
     },
     "execution_count": 55,
     "metadata": {},
     "output_type": "execute_result"
    },
    {
     "data": {
      "image/png": "[encoded data removed]",
      "text/plain": [
       "<Figure size 432x288 with 1 Axes>"
      ]
     },
     "metadata": {
      "needs_background": "light"
     },
     "output_type": "display_data"
    }
   ],
   "source": [
    "failure.hist()"
   ]
  },
  {
   "cell_type": "code",
   "execution_count": 1,
   "id": "76ed6baf",
   "metadata": {},
   "outputs": [],
   "source": [
    "alpha = 0.05\n",
    "#Двусторонний тест"
   ]
  },
  {
   "cell_type": "code",
   "execution_count": 58,
   "id": "e020c4af",
   "metadata": {},
   "outputs": [
    {
     "data": {
      "text/plain": [
       "Ttest_indResult(statistic=10.52862438167293, pvalue=2.226664892450268e-25)"
      ]
     },
     "execution_count": 58,
     "metadata": {},
     "output_type": "execute_result"
    }
   ],
   "source": [
    "scipy.stats.ttest_ind(success,failure, equal_var=False) # Проверяем с помощью модели t-тест"
   ]
  },
  {
   "cell_type": "code",
   "execution_count": 60,
   "id": "4467e875",
   "metadata": {},
   "outputs": [],
   "source": [
    "p_value = scipy.stats.ttest_ind(success, failure, equal_var=False)[-1]"
   ]
  },
  {
   "cell_type": "markdown",
   "id": "f40896e1",
   "metadata": {},
   "source": [
    "p_value - маленькая, следовательно мы отклоняем H0 гипотезу, разница между средними статистически значима."
   ]
  },
  {
   "cell_type": "markdown",
   "id": "84059735",
   "metadata": {},
   "source": [
    "Можно сделать вывод, что продолжительность разговора влияет на результат рекламной кампании. "
   ]
  },
  {
   "cell_type": "markdown",
   "id": "582daf71",
   "metadata": {},
   "source": [
    "Гипотеза 3. Существует взаимосвязь между количеством контактов с клиентов, которы были провеенв до рекламной кампании и промежуток времени до нового контакта (дни от последнего контакта)"
   ]
  },
  {
   "cell_type": "code",
   "execution_count": 62,
   "id": "eaf2dea5",
   "metadata": {},
   "outputs": [
    {
     "name": "stdout",
     "output_type": "stream",
     "text": [
      "LinregressResult(slope=19.770646986071363, intercept=28.724459424176537, rvalue=0.4548196354805003, pvalue=0.0, stderr=0.18207231129045254, intercept_stderr=0.43249354677370894)\n"
     ]
    }
   ],
   "source": [
    "X = bank_m['количество контактов ранее']\n",
    "y = bank_m['дни от последнего контакта']\n",
    "res = scipy.stats.linregress(X, y)\n",
    "print(res)\n",
    "#выбираем две зависимые переменные "
   ]
  },
  {
   "cell_type": "code",
   "execution_count": 63,
   "id": "e48ef3d1",
   "metadata": {},
   "outputs": [
    {
     "name": "stdout",
     "output_type": "stream",
     "text": [
      "0.20686090081861516\n"
     ]
    }
   ],
   "source": [
    "r_sq = res.rvalue ** 2\n",
    "print(r_sq) #коэффициент детерминации\n",
    "#0,2 - говорит о том, что качественная характеристика силы связи слабая "
   ]
  },
  {
   "cell_type": "code",
   "execution_count": 64,
   "id": "359d9509",
   "metadata": {},
   "outputs": [
    {
     "data": {
      "image/png": "[encoded data removed]",
      "text/plain": [
       "<Figure size 432x288 with 1 Axes>"
      ]
     },
     "metadata": {
      "needs_background": "light"
     },
     "output_type": "display_data"
    }
   ],
   "source": [
    "plt.scatter(X, y, label = 'оригинальные данные')\n",
    "plt.plot(X, res.intercept + res.slope * X, 'r', label = 'линия регрессии')\n",
    "plt.legend()\n",
    "plt.show()\n",
    "# Отобразим линию регресси "
   ]
  },
  {
   "cell_type": "markdown",
   "id": "a210331d",
   "metadata": {},
   "source": [
    "Гипотеза 4. С помощью логистчиеской регрессии мы сможем оценить существует ли взаимосвязь между наличием кредита у клиента и его конечным решением подписаться на предлагаемую услугу. "
   ]
  },
  {
   "cell_type": "code",
   "execution_count": 66,
   "id": "c9ecc234",
   "metadata": {},
   "outputs": [],
   "source": [
    "import statsmodels.api as sm"
   ]
  },
  {
   "cell_type": "code",
   "execution_count": 67,
   "id": "a001e482",
   "metadata": {
    "scrolled": true
   },
   "outputs": [
    {
     "name": "stdout",
     "output_type": "stream",
     "text": [
      "Optimization terminated successfully.\n",
      "         Current function value: 0.358244\n",
      "         Iterations 7\n",
      "                           Logit Regression Results                           \n",
      "==============================================================================\n",
      "Dep. Variable:           подписка_cat   No. Observations:                45211\n",
      "Model:                          Logit   Df Residuals:                    45209\n",
      "Method:                           MLE   Df Model:                            1\n",
      "Date:                Wed, 14 Dec 2022   Pseudo R-squ.:                0.007289\n",
      "Time:                        01:31:22   Log-Likelihood:                -16197.\n",
      "converged:                       True   LL-Null:                       -16315.\n",
      "Covariance Type:            nonrobust   LLR p-value:                 1.157e-53\n",
      "==============================================================================\n",
      "                 coef    std err          z      P>|z|      [0.025      0.975]\n",
      "------------------------------------------------------------------------------\n",
      "const         -1.9317      0.015   -125.145      0.000      -1.962      -1.901\n",
      "кредит_cat    -0.7049      0.050    -14.235      0.000      -0.802      -0.608\n",
      "==============================================================================\n"
     ]
    }
   ],
   "source": [
    "X = bank_m['кредит_cat']\n",
    "y = bank_m['подписка_cat']\n",
    "X_constant = sm.add_constant(X)\n",
    "logit = sm.Logit(y, X_constant).fit()\n",
    "print(logit.summary())"
   ]
  },
  {
   "cell_type": "code",
   "execution_count": 2,
   "id": "cc8efa6c",
   "metadata": {},
   "outputs": [],
   "source": [
    "#- 1.9317   - отношение вероятности того, что событие наступит\n",
    "#-1.3022 - отношение вероятности того, что событие не наступит"
   ]
  },
  {
   "cell_type": "code",
   "execution_count": 69,
   "id": "ebd826d0",
   "metadata": {},
   "outputs": [
    {
     "data": {
      "text/plain": [
       "0.14490165616654668"
      ]
     },
     "execution_count": 69,
     "metadata": {},
     "output_type": "execute_result"
    }
   ],
   "source": [
    "np.exp(-1.9317) "
   ]
  },
  {
   "cell_type": "code",
   "execution_count": 70,
   "id": "15d3d7a2",
   "metadata": {},
   "outputs": [
    {
     "data": {
      "text/plain": [
       "0.49415798758419255"
      ]
     },
     "execution_count": 70,
     "metadata": {},
     "output_type": "execute_result"
    }
   ],
   "source": [
    "np.exp(-0.7049)"
   ]
  },
  {
   "cell_type": "code",
   "execution_count": 71,
   "id": "24efc924",
   "metadata": {},
   "outputs": [
    {
     "data": {
      "text/html": [
       "<div>\n",
       "<style scoped>\n",
       "    .dataframe tbody tr th:only-of-type {\n",
       "        vertical-align: middle;\n",
       "    }\n",
       "\n",
       "    .dataframe tbody tr th {\n",
       "        vertical-align: top;\n",
       "    }\n",
       "\n",
       "    .dataframe thead th {\n",
       "        text-align: right;\n",
       "    }\n",
       "</style>\n",
       "<table border=\"1\" class=\"dataframe\">\n",
       "  <thead>\n",
       "    <tr style=\"text-align: right;\">\n",
       "      <th>кредит</th>\n",
       "      <th>no</th>\n",
       "      <th>yes</th>\n",
       "    </tr>\n",
       "    <tr>\n",
       "      <th>подписка</th>\n",
       "      <th></th>\n",
       "      <th></th>\n",
       "    </tr>\n",
       "  </thead>\n",
       "  <tbody>\n",
       "    <tr>\n",
       "      <th>no</th>\n",
       "      <td>33162</td>\n",
       "      <td>6760</td>\n",
       "    </tr>\n",
       "    <tr>\n",
       "      <th>yes</th>\n",
       "      <td>4805</td>\n",
       "      <td>484</td>\n",
       "    </tr>\n",
       "  </tbody>\n",
       "</table>\n",
       "</div>"
      ],
      "text/plain": [
       "кредит       no   yes\n",
       "подписка             \n",
       "no        33162  6760\n",
       "yes        4805   484"
      ]
     },
     "execution_count": 71,
     "metadata": {},
     "output_type": "execute_result"
    }
   ],
   "source": [
    "bank_m.groupby('подписка')['кредит'].value_counts().unstack()"
   ]
  },
  {
   "cell_type": "code",
   "execution_count": 72,
   "id": "8fc9eced",
   "metadata": {},
   "outputs": [
    {
     "data": {
      "text/html": [
       "<div>\n",
       "<style scoped>\n",
       "    .dataframe tbody tr th:only-of-type {\n",
       "        vertical-align: middle;\n",
       "    }\n",
       "\n",
       "    .dataframe tbody tr th {\n",
       "        vertical-align: top;\n",
       "    }\n",
       "\n",
       "    .dataframe thead th {\n",
       "        text-align: right;\n",
       "    }\n",
       "</style>\n",
       "<table border=\"1\" class=\"dataframe\">\n",
       "  <thead>\n",
       "    <tr style=\"text-align: right;\">\n",
       "      <th>кредит_cat</th>\n",
       "      <th>0</th>\n",
       "      <th>1</th>\n",
       "    </tr>\n",
       "    <tr>\n",
       "      <th>подписка_cat</th>\n",
       "      <th></th>\n",
       "      <th></th>\n",
       "    </tr>\n",
       "  </thead>\n",
       "  <tbody>\n",
       "    <tr>\n",
       "      <th>0</th>\n",
       "      <td>33162</td>\n",
       "      <td>6760</td>\n",
       "    </tr>\n",
       "    <tr>\n",
       "      <th>1</th>\n",
       "      <td>4805</td>\n",
       "      <td>484</td>\n",
       "    </tr>\n",
       "  </tbody>\n",
       "</table>\n",
       "</div>"
      ],
      "text/plain": [
       "кредит_cat        0     1\n",
       "подписка_cat             \n",
       "0             33162  6760\n",
       "1              4805   484"
      ]
     },
     "execution_count": 72,
     "metadata": {},
     "output_type": "execute_result"
    }
   ],
   "source": [
    "bank_m.groupby('подписка_cat')['кредит_cat'].value_counts().unstack()"
   ]
  },
  {
   "cell_type": "code",
   "execution_count": 73,
   "id": "39de34fa",
   "metadata": {},
   "outputs": [
    {
     "name": "stdout",
     "output_type": "stream",
     "text": [
      "0.07159763313609467\n",
      "-2.636693262320378\n"
     ]
    }
   ],
   "source": [
    "p_1_yes = 484 / (484 + 6760) \n",
    "p_0_yes = 1 - p_1_yes #вероятность наступления события \n",
    "odds_1_yes = p_1_yes / p_0_yes \n",
    "print(odds_1_yes) #рассчитываем шанс того, что человек у кторого есть кридит - подпишется \n",
    "print(np.log(odds_1_yes))"
   ]
  },
  {
   "cell_type": "code",
   "execution_count": 74,
   "id": "4e94cb06",
   "metadata": {},
   "outputs": [
    {
     "name": "stdout",
     "output_type": "stream",
     "text": [
      "0.1448947590615765\n",
      "-1.931747599656925\n"
     ]
    }
   ],
   "source": [
    "p_1_no = 4805 / (4805 + 33162) \n",
    "p_0_no = 1 - p_1_no #вероятность наступления события \n",
    "odds_1_no = p_1_no / p_0_no\n",
    "print(odds_1_no) #рассчитываем шанс того, что человек у кторого нет кридита - подпишется \n",
    "print(np.log(odds_1_no))"
   ]
  },
  {
   "cell_type": "code",
   "execution_count": 75,
   "id": "b82f92e5",
   "metadata": {
    "scrolled": true
   },
   "outputs": [
    {
     "name": "stdout",
     "output_type": "stream",
     "text": [
      "2.0237367174716057\n",
      "0.7049456626634529\n"
     ]
    }
   ],
   "source": [
    "odds_fem_yes = (4805 / 33162) / (484 / 6760)\n",
    "print(odds_fem_yes)\n",
    "print(np.log(odds_fem_yes))"
   ]
  },
  {
   "cell_type": "markdown",
   "id": "40a3e4ab",
   "metadata": {},
   "source": [
    "Кажется, что наличие кредита не влияет на конечное решение клиента подписаться на новую услугу. "
   ]
  },
  {
   "cell_type": "markdown",
   "id": "25527968",
   "metadata": {},
   "source": [
    "Таким образом, мы проанализировали датасет, изучили клиентов банка и рекламные кампании, а также проверили несколько гипотез. Можно сделать вывод, что решение клиента о покупке услуги не всегда зависит от внешних факторов. Например, мы видим, что взаимосвязь с некоторыми признаками есть, но кажется, что она не ярко выражена и не играет конечную роль в принятии решения.\n",
    "\n",
    "Кажется, что телемаркетинг сегодня уже не так актуален и эффективен. Однако важно отметить, что на его успешность влияют следущие факторы:\n",
    "- Подготовка к разговору заранее\n",
    "- Уверенность и компетентность продавца\n",
    "- Уменее завлечь клиента разговором\n",
    "- Уменее уйти от использование клишированных фраз \n",
    "\n",
    "К сожалению, таких данных в датасете не представлено. "
   ]
  }
 ],
 "metadata": {
  "kernelspec": {
   "display_name": "Python 3 (ipykernel)",
   "language": "python",
   "name": "python3"
  },
  "language_info": {
   "codemirror_mode": {
    "name": "ipython",
    "version": 3
   },
   "file_extension": ".py",
   "mimetype": "text/x-python",
   "name": "python",
   "nbconvert_exporter": "python",
   "pygments_lexer": "ipython3",
   "version": "3.9.12"
  }
 },
 "nbformat": 4,
 "nbformat_minor": 5
}
